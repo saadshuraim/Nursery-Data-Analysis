{
 "cells": [
  {
   "cell_type": "code",
   "execution_count": 1,
   "metadata": {},
   "outputs": [],
   "source": [
    "import pandas as pd\n",
    "import numpy as np\n",
    "from sklearn.model_selection import train_test_split\n",
    "from sklearn.preprocessing import StandardScaler, LabelEncoder\n",
    "from sklearn.neighbors import KNeighborsClassifier\n",
    "from sklearn.metrics import confusion_matrix, accuracy_score, classification_report\n",
    "import matplotlib.pyplot as plt\n",
    "import seaborn as sns"
   ]
  },
  {
   "cell_type": "code",
   "execution_count": 2,
   "metadata": {},
   "outputs": [],
   "source": [
    "df = pd.read_csv('nursery.csv')\n",
    "nan_percentage = 0.1\n",
    "total_cells = df.size\n",
    "num_nan_values = int(total_cells * nan_percentage)\n",
    "nan_indices = np.random.choice(df.size, num_nan_values, replace=False)\n",
    "row_indices, col_indices = np.unravel_index(nan_indices, df.shape)\n",
    "df.iloc[row_indices, col_indices] = np.nan\n",
    "df.to_csv('nursery.csv', index=False)\n"
   ]
  },
  {
   "cell_type": "code",
   "execution_count": 3,
   "metadata": {},
   "outputs": [
    {
     "name": "stdout",
     "output_type": "stream",
     "text": [
      "Rows containing NaN values:\n",
      "     parents has_nurs form children housing finance social health  \\\n",
      "3        NaN      NaN  NaN      NaN     NaN     NaN    NaN    NaN   \n",
      "10       NaN      NaN  NaN      NaN     NaN     NaN    NaN    NaN   \n",
      "11       NaN      NaN  NaN      NaN     NaN     NaN    NaN    NaN   \n",
      "12       NaN      NaN  NaN      NaN     NaN     NaN    NaN    NaN   \n",
      "13       NaN      NaN  NaN      NaN     NaN     NaN    NaN    NaN   \n",
      "...      ...      ...  ...      ...     ...     ...    ...    ...   \n",
      "5037     NaN      NaN  NaN      NaN     NaN     NaN    NaN    NaN   \n",
      "5038     NaN      NaN  NaN      NaN     NaN     NaN    NaN    NaN   \n",
      "5041     NaN      NaN  NaN      NaN     NaN     NaN    NaN    NaN   \n",
      "5042     NaN      NaN  NaN      NaN     NaN     NaN    NaN    NaN   \n",
      "5043     NaN      NaN  NaN      NaN     NaN     NaN    NaN    NaN   \n",
      "\n",
      "     final evaluation  \n",
      "3                 NaN  \n",
      "10                NaN  \n",
      "11                NaN  \n",
      "12                NaN  \n",
      "13                NaN  \n",
      "...               ...  \n",
      "5037              NaN  \n",
      "5038              NaN  \n",
      "5041              NaN  \n",
      "5042              NaN  \n",
      "5043              NaN  \n",
      "\n",
      "[3086 rows x 9 columns]\n"
     ]
    }
   ],
   "source": [
    "# Identifying the values with null values\n",
    "dirty_df = pd.read_csv('nursery.csv')\n",
    "\n",
    "# Finding rows with NaN values\n",
    "rows_with_nan = dirty_df[dirty_df.isnull().any(axis=1)]\n",
    "\n",
    "# Printing rows containing NaN values\n",
    "print(\"Rows containing NaN values:\")\n",
    "print(rows_with_nan)"
   ]
  },
  {
   "cell_type": "code",
   "execution_count": 4,
   "metadata": {},
   "outputs": [],
   "source": [
    "#cleaning the data\n",
    "clean_df = dirty_df.dropna()  # Drop rows with NaN values\n",
    "\n",
    "# Save cleaned data back to the same CSV file\n",
    "clean_df.to_csv('nursery.csv', index=False)"
   ]
  },
  {
   "cell_type": "code",
   "execution_count": 5,
   "metadata": {},
   "outputs": [
    {
     "name": "stdout",
     "output_type": "stream",
     "text": [
      "Rows containing NaN values:\n",
      "Empty DataFrame\n",
      "Columns: [parents, has_nurs, form, children, housing, finance, social, health, final evaluation]\n",
      "Index: []\n"
     ]
    }
   ],
   "source": [
    "#Checking to see if the data is thoroughly cleaned\n",
    "dirty_df = pd.read_csv('nursery.csv')\n",
    "\n",
    "# Finding rows with NaN values\n",
    "rows_with_nan = dirty_df[dirty_df.isnull().any(axis=1)]\n",
    "\n",
    "# Printing rows containing NaN values\n",
    "print(\"Rows containing NaN values:\")\n",
    "print(rows_with_nan)"
   ]
  },
  {
   "cell_type": "markdown",
   "metadata": {
    "id": "lZOvwxnxw5Be"
   },
   "source": [
    "*Reading Dataset*"
   ]
  },
  {
   "cell_type": "code",
   "execution_count": 7,
   "metadata": {
    "colab": {
     "base_uri": "https://localhost:8080/"
    },
    "id": "bXZLZNXuv_VI",
    "outputId": "21c6938d-c254-4856-b7d9-0bd15609a5ec"
   },
   "outputs": [
    {
     "name": "stdout",
     "output_type": "stream",
     "text": [
      "<class 'pandas.core.frame.DataFrame'>\n",
      "RangeIndex: 1959 entries, 0 to 1958\n",
      "Data columns (total 9 columns):\n",
      " #   Column            Non-Null Count  Dtype \n",
      "---  ------            --------------  ----- \n",
      " 0   parents           1959 non-null   object\n",
      " 1   has_nurs          1959 non-null   object\n",
      " 2   form              1959 non-null   object\n",
      " 3   children          1959 non-null   object\n",
      " 4   housing           1959 non-null   object\n",
      " 5   finance           1959 non-null   object\n",
      " 6   social            1959 non-null   object\n",
      " 7   health            1959 non-null   object\n",
      " 8   final evaluation  1959 non-null   object\n",
      "dtypes: object(9)\n",
      "memory usage: 137.9+ KB\n",
      "None\n"
     ]
    }
   ],
   "source": [
    "df1=pd.read_csv('nursery.csv')\n",
    "print(df1.info())"
   ]
  },
  {
   "cell_type": "markdown",
   "metadata": {
    "id": "FcPZIw9rwqSO"
   },
   "source": [
    " *Check for missing values*"
   ]
  },
  {
   "cell_type": "code",
   "execution_count": 8,
   "metadata": {
    "colab": {
     "base_uri": "https://localhost:8080/"
    },
    "id": "6Tzu50YPvdzk",
    "outputId": "a963162a-fb9e-43e7-ba8a-d8c2a378392d"
   },
   "outputs": [
    {
     "name": "stdout",
     "output_type": "stream",
     "text": [
      "parents             0\n",
      "has_nurs            0\n",
      "form                0\n",
      "children            0\n",
      "housing             0\n",
      "finance             0\n",
      "social              0\n",
      "health              0\n",
      "final evaluation    0\n",
      "dtype: int64\n"
     ]
    }
   ],
   "source": [
    "\n",
    "print(df1.isnull().sum())\n"
   ]
  },
  {
   "cell_type": "markdown",
   "metadata": {
    "id": "m16QCv-Y0imO"
   },
   "source": [
    "*Calculate the number of recommendations for each type of parents*"
   ]
  },
  {
   "cell_type": "code",
   "execution_count": 9,
   "metadata": {
    "colab": {
     "base_uri": "https://localhost:8080/"
    },
    "id": "OoRG1p3m0gGC",
    "outputId": "a4fa42e8-bea6-47a0-e120-712887b57efe"
   },
   "outputs": [
    {
     "name": "stdout",
     "output_type": "stream",
     "text": [
      "parents\n",
      "usual    1\n",
      "dtype: int64\n"
     ]
    }
   ],
   "source": [
    "recommendations_parents = df1[df1['final evaluation'] == 'recommend'].groupby('parents').size()\n",
    "print(recommendations_parents)"
   ]
  },
  {
   "cell_type": "markdown",
   "metadata": {
    "id": "WGNVeo4E4sSq"
   },
   "source": [
    "*Calculate the number of recommendations for each type of housing in the dataset.*"
   ]
  },
  {
   "cell_type": "code",
   "execution_count": 10,
   "metadata": {
    "colab": {
     "base_uri": "https://localhost:8080/"
    },
    "id": "0j7_WSUM4mk0",
    "outputId": "d5a98107-ed91-4c33-8822-2244fd8d0d49"
   },
   "outputs": [
    {
     "name": "stdout",
     "output_type": "stream",
     "text": [
      "housing\n",
      "convenient    1\n",
      "dtype: int64\n"
     ]
    }
   ],
   "source": [
    "recommendations_housing = df1[df1['final evaluation'] == 'recommend'].groupby('housing').size()\n",
    "print(recommendations_housing)"
   ]
  },
  {
   "cell_type": "markdown",
   "metadata": {
    "id": "GtKxUEg3489k"
   },
   "source": [
    "*Investigate which type of parents have the most recommendations.*"
   ]
  },
  {
   "cell_type": "code",
   "execution_count": 11,
   "metadata": {
    "colab": {
     "base_uri": "https://localhost:8080/"
    },
    "id": "zgYyeP3e42ns",
    "outputId": "6dd01d98-b5f7-4cf8-d264-064f562c2e26"
   },
   "outputs": [
    {
     "name": "stdout",
     "output_type": "stream",
     "text": [
      "Type of parents with the most recommendations: usual\n"
     ]
    }
   ],
   "source": [
    "parents_most_recommendations = recommendations_parents.idxmax()\n",
    "print(\"Type of parents with the most recommendations:\", parents_most_recommendations)\n"
   ]
  },
  {
   "cell_type": "markdown",
   "metadata": {
    "id": "dtMalq481NUD"
   },
   "source": [
    "*Average number of parents' occupations for each 'Health' condition*"
   ]
  },
  {
   "cell_type": "code",
   "execution_count": 25,
   "metadata": {
    "colab": {
     "base_uri": "https://localhost:8080/"
    },
    "id": "BTWdjkOT1ReM",
    "outputId": "e48f0c27-ef93-4acc-8ff1-5ffbc6d9548f"
   },
   "outputs": [
    {
     "name": "stdout",
     "output_type": "stream",
     "text": [
      "health\n",
      "not_recom      4320\n",
      "priority       4320\n",
      "recommended    4320\n",
      "Name: parents, dtype: int64\n"
     ]
    }
   ],
   "source": [
    "average_parents_per_health = df1.groupby('health')['parents'].count()\n",
    "print(average_parents_per_health)"
   ]
  },
  {
   "cell_type": "markdown",
   "metadata": {
    "id": "wkf-OGGu6FGq"
   },
   "source": [
    "*Convert categorical variables to numerical*"
   ]
  },
  {
   "cell_type": "code",
   "execution_count": 35,
   "metadata": {
    "id": "JDhLqahY6ImZ"
   },
   "outputs": [],
   "source": [
    "le = LabelEncoder()\n",
    "df1 = df1.apply(le.fit_transform)"
   ]
  },
  {
   "cell_type": "markdown",
   "metadata": {
    "id": "TOh3mUNt1zUs"
   },
   "source": [
    "*Does the number of children scale proportionally to the type of housing?.*"
   ]
  },
  {
   "cell_type": "markdown",
   "metadata": {
    "id": "1_ooKrnU6Ri0"
   },
   "source": [
    "*Do relationships exist between the broader health status and final evaluation?*"
   ]
  },
  {
   "cell_type": "code",
   "execution_count": 37,
   "metadata": {
    "colab": {
     "base_uri": "https://localhost:8080/"
    },
    "id": "xteOz4O66PQJ",
    "outputId": "c49fbe1a-7d81-4c30-ca1f-015d47521333"
   },
   "outputs": [
    {
     "name": "stdout",
     "output_type": "stream",
     "text": [
      "final evaluation     0     1  2     3    4\n",
      "health                                    \n",
      "0                 4320     0  0     0    0\n",
      "1                    0  1854  0  2466    0\n",
      "2                    0  2412  2  1578  328\n"
     ]
    }
   ],
   "source": [
    "health_final_eval_relationship = df1.groupby(['health', 'final evaluation']).size().unstack(fill_value=0)\n",
    "print(health_final_eval_relationship)"
   ]
  },
  {
   "cell_type": "markdown",
   "metadata": {
    "id": "i-ynirrT6jrv"
   },
   "source": [
    "*Are there any noticeable relationships between social status and final evaluation?*"
   ]
  },
  {
   "cell_type": "code",
   "execution_count": 38,
   "metadata": {
    "colab": {
     "base_uri": "https://localhost:8080/"
    },
    "id": "_k93Yo4X6NtD",
    "outputId": "fc830759-c257-48fe-ae0d-a119635e8373"
   },
   "outputs": [
    {
     "name": "stdout",
     "output_type": "stream",
     "text": [
      "final evaluation     0     1  2     3    4\n",
      "social                                    \n",
      "0                 1440  1515  1  1200  164\n",
      "1                 1440  1236  0  1644    0\n",
      "2                 1440  1515  1  1200  164\n"
     ]
    }
   ],
   "source": [
    "social_final_eval_relationship = df1.groupby(['social', 'final evaluation']).size().unstack(fill_value=0)\n",
    "print(social_final_eval_relationship)"
   ]
  },
  {
   "cell_type": "markdown",
   "metadata": {
    "id": "0ZB_v9Hayuii"
   },
   "source": [
    "*Boxplot*"
   ]
  },
  {
   "cell_type": "code",
   "execution_count": 13,
   "metadata": {
    "colab": {
     "base_uri": "https://localhost:8080/",
     "height": 470
    },
    "id": "0mW7wIp-y0SO",
    "outputId": "8d12a999-879b-4c80-ea05-e4086b699168"
   },
   "outputs": [
    {
     "data": {
      "text/plain": [
       "[]"
      ]
     },
     "execution_count": 13,
     "metadata": {},
     "output_type": "execute_result"
    },
    {
     "data": {
      "image/png": "[encoded data removed]",
      "text/plain": [
       "<Figure size 640x480 with 1 Axes>"
      ]
     },
     "metadata": {},
     "output_type": "display_data"
    }
   ],
   "source": [
    "sns.boxplot(data=df1)\n",
    "plt.title('Box Plot')\n",
    "plt.plot()"
   ]
  },
  {
   "cell_type": "markdown",
   "metadata": {
    "id": "OjYjNzWtxVXH"
   },
   "source": [
    "*Split the dataset into features and target variable*"
   ]
  },
  {
   "cell_type": "code",
   "execution_count": 5,
   "metadata": {
    "id": "bn6nOhJaxX1F"
   },
   "outputs": [],
   "source": [
    "X = df1.drop('final evaluation', axis=1)\n",
    "y = df1['final evaluation']"
   ]
  },
  {
   "cell_type": "markdown",
   "metadata": {
    "id": "7b8JWvOozHU0"
   },
   "source": [
    "*Histogram*"
   ]
  },
  {
   "cell_type": "code",
   "execution_count": 16,
   "metadata": {
    "colab": {
     "base_uri": "https://localhost:8080/",
     "height": 452
    },
    "id": "UuW1ZCR4zK-o",
    "outputId": "2687e05d-579c-4b96-fb09-9031a274c9a6"
   },
   "outputs": [
    {
     "data": {
      "image/png": "[encoded data removed]",
      "text/plain": [
       "<Figure size 640x480 with 1 Axes>"
      ]
     },
     "metadata": {},
     "output_type": "display_data"
    }
   ],
   "source": [
    "for column in df1.columns:\n",
    "    df1[column].hist()\n",
    "    plt.title(f'Histogram of {column}')\n",
    "    plt.plot()"
   ]
  },
  {
   "cell_type": "markdown",
   "metadata": {
    "id": "zYFc4eW3zdId"
   },
   "source": [
    " *Statistics*\n"
   ]
  },
  {
   "cell_type": "code",
   "execution_count": 17,
   "metadata": {
    "colab": {
     "base_uri": "https://localhost:8080/"
    },
    "id": "waMEjPXLzg87",
    "outputId": "295c4495-af15-4df0-d821-fa2e67ebae69"
   },
   "outputs": [
    {
     "name": "stdout",
     "output_type": "stream",
     "text": [
      "            parents      has_nurs          form      children       housing  \\\n",
      "count  12960.000000  12960.000000  12960.000000  12960.000000  12960.000000   \n",
      "mean       1.000000      2.000000      1.500000      1.500000      1.000000   \n",
      "std        0.816528      1.414268      1.118077      1.118077      0.816528   \n",
      "min        0.000000      0.000000      0.000000      0.000000      0.000000   \n",
      "25%        0.000000      1.000000      0.750000      0.750000      0.000000   \n",
      "50%        1.000000      2.000000      1.500000      1.500000      1.000000   \n",
      "75%        2.000000      3.000000      2.250000      2.250000      2.000000   \n",
      "max        2.000000      4.000000      3.000000      3.000000      2.000000   \n",
      "\n",
      "            finance        social        health  final evaluation  \n",
      "count  12960.000000  12960.000000  12960.000000      12960.000000  \n",
      "mean       0.500000      1.000000      1.000000          1.366821  \n",
      "std        0.500019      0.816528      0.816528          1.294212  \n",
      "min        0.000000      0.000000      0.000000          0.000000  \n",
      "25%        0.000000      0.000000      0.000000          0.000000  \n",
      "50%        0.500000      1.000000      1.000000          1.000000  \n",
      "75%        1.000000      2.000000      2.000000          3.000000  \n",
      "max        1.000000      2.000000      2.000000          4.000000  \n"
     ]
    }
   ],
   "source": [
    "print(df1.describe())"
   ]
  },
  {
   "cell_type": "markdown",
   "metadata": {
    "id": "-Hy8RoE8zv2S"
   },
   "source": [
    "*HeatMap*"
   ]
  },
  {
   "cell_type": "code",
   "execution_count": 19,
   "metadata": {
    "colab": {
     "base_uri": "https://localhost:8080/",
     "height": 564
    },
    "id": "lxpD2nJZzyXJ",
    "outputId": "ccf10678-3a1e-4118-ce2b-038670369af1"
   },
   "outputs": [
    {
     "data": {
      "text/plain": [
       "[]"
      ]
     },
     "execution_count": 19,
     "metadata": {},
     "output_type": "execute_result"
    },
    {
     "data": {
      "image/png": "[encoded data removed]",
      "text/plain": [
       "<Figure size 640x480 with 2 Axes>"
      ]
     },
     "metadata": {},
     "output_type": "display_data"
    }
   ],
   "source": [
    "sns.heatmap(df1.corr())\n",
    "plt.title('Heatmap')\n",
    "plt.plot()"
   ]
  },
  {
   "cell_type": "markdown",
   "metadata": {
    "id": "IT5h3yalxdPi"
   },
   "source": [
    " *Split the dataset into training set and test set*"
   ]
  },
  {
   "cell_type": "code",
   "execution_count": 6,
   "metadata": {
    "id": "M_Y6OXJjxeol"
   },
   "outputs": [],
   "source": [
    "X_train, X_test, y_train, y_test = train_test_split(X, y, test_size=0.2, random_state=1)"
   ]
  },
  {
   "cell_type": "markdown",
   "metadata": {
    "id": "eo1APWVFxrs2"
   },
   "source": [
    "*Feature scaling*"
   ]
  },
  {
   "cell_type": "code",
   "execution_count": 7,
   "metadata": {
    "id": "B1jY_X5txoN9"
   },
   "outputs": [],
   "source": [
    "scaler = StandardScaler()\n",
    "X_train = scaler.fit_transform(X_train)\n",
    "X_test = scaler.transform(X_test)"
   ]
  },
  {
   "cell_type": "markdown",
   "metadata": {
    "id": "3w7RqyD-x3lH"
   },
   "source": [
    "*Train the KNN model*"
   ]
  },
  {
   "cell_type": "code",
   "execution_count": null,
   "metadata": {
    "id": "2oYLSVSkx5iy"
   },
   "outputs": [],
   "source": [
    "knn = KNeighborsClassifier(n_neighbors=5)\n",
    "knn.fit(X_train, y_train)"
   ]
  },
  {
   "cell_type": "markdown",
   "metadata": {
    "id": "sFHrYVk9x_Vh"
   },
   "source": [
    "*Make predictions*"
   ]
  },
  {
   "cell_type": "code",
   "execution_count": 40,
   "metadata": {
    "id": "t7al_TvmyF6t"
   },
   "outputs": [],
   "source": [
    "y_pred = knn.predict(X_test)"
   ]
  },
  {
   "cell_type": "markdown",
   "metadata": {
    "id": "cKeM13OlyLAs"
   },
   "source": [
    "*Evaluate the model*"
   ]
  },
  {
   "cell_type": "code",
   "execution_count": 10,
   "metadata": {
    "colab": {
     "base_uri": "https://localhost:8080/"
    },
    "id": "uz1KGN1hyMyT",
    "outputId": "16f69043-26b7-4509-dd0e-565bc3f2bab2"
   },
   "outputs": [
    {
     "name": "stdout",
     "output_type": "stream",
     "text": [
      "Confusion Matrix:\n",
      "[[900   0   0   0]\n",
      " [  0 776  52  17]\n",
      " [  0 159 618   0]\n",
      " [  0  14   0  56]]\n",
      "Accuracy: 0.9066358024691358\n"
     ]
    }
   ],
   "source": [
    "cm = confusion_matrix(y_test, y_pred)\n",
    "print('Confusion Matrix:')\n",
    "print(cm)\n",
    "print('Accuracy:', accuracy_score(y_test, y_pred))"
   ]
  },
  {
   "cell_type": "code",
   "execution_count": 11,
   "metadata": {
    "colab": {
     "base_uri": "https://localhost:8080/"
    },
    "id": "3-Tw0TRhyZTh",
    "outputId": "254eb040-1ea6-4bf7-9a97-ebd2ddcc253d"
   },
   "outputs": [
    {
     "name": "stdout",
     "output_type": "stream",
     "text": [
      "Classification Report:\n",
      "              precision    recall  f1-score   support\n",
      "\n",
      "           0       1.00      1.00      1.00       900\n",
      "           1       0.82      0.92      0.87       845\n",
      "           3       0.92      0.80      0.85       777\n",
      "           4       0.77      0.80      0.78        70\n",
      "\n",
      "    accuracy                           0.91      2592\n",
      "   macro avg       0.88      0.88      0.88      2592\n",
      "weighted avg       0.91      0.91      0.91      2592\n",
      "\n"
     ]
    }
   ],
   "source": [
    "report = classification_report(y_test, y_pred)\n",
    "print('Classification Report:')\n",
    "print(report)"
   ]
  }
 ],
 "metadata": {
  "colab": {
   "provenance": []
  },
  "kernelspec": {
   "display_name": "Python 3 (ipykernel)",
   "language": "python",
   "name": "python3"
  },
  "language_info": {
   "codemirror_mode": {
    "name": "ipython",
    "version": 3
   },
   "file_extension": ".py",
   "mimetype": "text/x-python",
   "name": "python",
   "nbconvert_exporter": "python",
   "pygments_lexer": "ipython3",
   "version": "3.11.5"
  }
 },
 "nbformat": 4,
 "nbformat_minor": 4
}
